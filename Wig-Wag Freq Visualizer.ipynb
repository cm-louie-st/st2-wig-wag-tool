{
 "cells": [
  {
   "cell_type": "markdown",
   "metadata": {},
   "source": [
    "Wig-Wag Frequency Visualizer Python Code\n",
    "\n",
    "This is a code that will help visualization of frequency parameters. It will output a 10 second animation of desired parameters.\n",
    "\n",
    "\n",
    "This code will allow the user to adjust parameters for the wig wag headlights including:\n",
    "\n",
    "Headlight Flash (hz): the rate that it will cycle left off, right on -> right on left off\n",
    "\n",
    "Hazard Flash (Hz): the rate at which the hazards light flash (NOTE: Currently set to 1.25hz)\n",
    "\n",
    "\n",
    "How to use:\n",
    "\n",
    "1: Click the double play arrows in the tool bar\n",
    "\n",
    "2: Wait for the first image to appear\n",
    "\n",
    "3: Adjust to desired frequency\n",
    "\n",
    "4: Click Generate Animation and Wait"
   ]
  },
  {
   "cell_type": "code",
   "execution_count": 6,
   "metadata": {
    "editable": true,
    "jupyter": {
     "source_hidden": true
    },
    "slideshow": {
     "slide_type": ""
    },
    "tags": []
   },
   "outputs": [
    {
     "data": {
      "application/vnd.jupyter.widget-view+json": {
       "model_id": "666e70fc16b241569bdfd236e0b83ffa",
       "version_major": 2,
       "version_minor": 0
      },
      "text/plain": [
       "FloatSlider(value=1.0, description='Headlight Flash (Hz):', max=2.0, min=0.1, step=0.01)"
      ]
     },
     "metadata": {},
     "output_type": "display_data"
    },
    {
     "data": {
      "application/vnd.jupyter.widget-view+json": {
       "model_id": "bca53afd8005422baeabac0c6aae9346",
       "version_major": 2,
       "version_minor": 0
      },
      "text/plain": [
       "FloatSlider(value=1.25, description='Hazard Flash (Hz):', max=2.0, min=0.1, step=0.01)"
      ]
     },
     "metadata": {},
     "output_type": "display_data"
    },
    {
     "data": {
      "application/vnd.jupyter.widget-view+json": {
       "model_id": "130f926423364fdc95b205551bf18f62",
       "version_major": 2,
       "version_minor": 0
      },
      "text/plain": [
       "Button(description='Generate Animation', style=ButtonStyle())"
      ]
     },
     "metadata": {},
     "output_type": "display_data"
    },
    {
     "data": {
      "application/vnd.jupyter.widget-view+json": {
       "model_id": "e1ac473378444b69901540438688d39b",
       "version_major": 2,
       "version_minor": 0
      },
      "text/plain": [
       "Button(description='Save GIF', style=ButtonStyle())"
      ]
     },
     "metadata": {},
     "output_type": "display_data"
    },
    {
     "data": {
      "application/vnd.jupyter.widget-view+json": {
       "model_id": "82550dcfae9947e7a99cbd4b9362c49a",
       "version_major": 2,
       "version_minor": 0
      },
      "text/plain": [
       "Output()"
      ]
     },
     "metadata": {},
     "output_type": "display_data"
    }
   ],
   "source": [
    "import numpy as np\n",
    "import matplotlib.pyplot as plt\n",
    "from PIL import Image\n",
    "from IPython.display import display, HTML\n",
    "import io\n",
    "import base64\n",
    "import ipywidgets as widgets\n",
    "from ipywidgets import FloatSlider, Button, Output\n",
    "\n",
    "# Global variables to manage state\n",
    "hz = 1.0  # Initial frequency for headlights\n",
    "hazard_hz = 1.25  # Initial frequency for hazard lights\n",
    "gif_buffer = None  # Initialize gif_buffer\n",
    "\n",
    "# Output widget to capture button actions\n",
    "out = Output()\n",
    "\n",
    "def create_animation(hz, hazard_hz):\n",
    "    global gif_buffer  # Use the global variable\n",
    "\n",
    "    # Calculate on and off times based on frequency\n",
    "    headlight_on_time = 1 / (2 * hz)   # Time (in seconds) for headlights to be on\n",
    "    headlight_off_time = 1 / (2 * hz)  # Time (in seconds) for headlights to be off\n",
    "    hazard_on_time = 1 / (2 * hazard_hz)   # Time for hazard lights to be on\n",
    "    hazard_off_time = 1 / (2 * hazard_hz)  # Time for hazard lights to be off\n",
    "\n",
    "    # Create figure and axis\n",
    "    fig, ax = plt.subplots()\n",
    "    ax.set_xlim(0, 10)\n",
    "    ax.set_ylim(0, 2)\n",
    "    ax.axis('off')  # Hide axes\n",
    "    fig.patch.set_facecolor('black')\n",
    "    ax.set_facecolor('black')\n",
    "\n",
    "    # Create two white circles for headlights\n",
    "    headlight1 = plt.Polygon([(1.5, 0.75), (3, 0.75), (3.5, 0.5), (2, 0.5)], color='white', fill=True)\n",
    "    headlight2 = plt.Polygon([(8.5, 0.75), (7, 0.75), (6.5, 0.5), (8, 0.5)], color='white', fill=True)\n",
    "    ax.add_patch(headlight1)\n",
    "    ax.add_patch(headlight2)\n",
    "\n",
    "    # Create two white circles for hazard lights\n",
    "    hazard1 = plt.Polygon([(1.25, 0.75), (1.5, 0.75), (2, 0.5), (1.75, 0.5)], color='orange', fill=True)\n",
    "    hazard2 = plt.Polygon([(8.75, 0.75), (8.5, 0.75), (8, 0.5), (8.25, 0.5)], color='orange', fill=True)\n",
    "    ax.add_patch(hazard1)\n",
    "    ax.add_patch(hazard2)\n",
    "\n",
    "    # Add labels for frequencies\n",
    "    frequency_label = f\"Headlight Frequency: {hz:.2f} Hz\\nHazard Frequency: {hazard_hz:.2f} Hz\"\n",
    "    ax.text(0.1, 1.5, frequency_label, color='white', fontsize=12, va='top')\n",
    "   \n",
    "    total_time = 10  # Fixed duration of the animation in seconds\n",
    "    fps = 30         # Frames per second for the animation\n",
    "\n",
    "    # Prepare to save animation frames\n",
    "    frames = []\n",
    "    for frame in range(int(total_time * fps)):\n",
    "        cycle_time = (frame / fps) % (2 * (headlight_on_time + headlight_off_time))\n",
    "        hazard_cycle_time = (frame / fps) % ((hazard_on_time + hazard_off_time))\n",
    "        \n",
    "        # Headlight animation\n",
    "        if cycle_time < headlight_on_time:\n",
    "            headlight1.set_visible(True)\n",
    "            headlight2.set_visible(False)\n",
    "        elif cycle_time < headlight_on_time + headlight_off_time:\n",
    "            headlight1.set_visible(False)\n",
    "            headlight2.set_visible(True)\n",
    "        elif cycle_time < 2 * headlight_on_time + headlight_off_time:\n",
    "            headlight1.set_visible(True)\n",
    "            headlight2.set_visible(False)\n",
    "        else:\n",
    "            headlight1.set_visible(False)\n",
    "            headlight2.set_visible(True)\n",
    "\n",
    "        # Hazard light animation (flashing together)\n",
    "        if hazard_cycle_time < hazard_on_time:\n",
    "            hazard1.set_visible(True)\n",
    "            hazard2.set_visible(True)\n",
    "        else:\n",
    "            hazard1.set_visible(False)\n",
    "            hazard2.set_visible(False)\n",
    "\n",
    "        # Capture the frame\n",
    "        buf = io.BytesIO()\n",
    "        plt.savefig(buf, format='png', bbox_inches='tight', pad_inches=0)\n",
    "        buf.seek(0)\n",
    "        img = Image.open(buf)\n",
    "        frames.append(img.copy())  # Ensure a copy of the image is added to the list\n",
    "        buf.close()\n",
    "\n",
    "    # Save all frames as a GIF\n",
    "    gif_buffer = io.BytesIO()\n",
    "    frames[0].save(\n",
    "        gif_buffer,\n",
    "        format='GIF',\n",
    "        append_images=frames[1:],\n",
    "        save_all=True,\n",
    "        duration=1000 / fps,  # Duration per frame in milliseconds\n",
    "        loop=0\n",
    "    )\n",
    "    gif_buffer.seek(0)\n",
    "\n",
    "    # Encode GIF as base64\n",
    "    gif_base64 = base64.b64encode(gif_buffer.read()).decode('utf-8')\n",
    "\n",
    "    # Display GIF inline\n",
    "    with out:\n",
    "        out.clear_output()\n",
    "        display(HTML(f'<img src=\"data:image/gif;base64,{gif_base64}\" />'))\n",
    "    plt.close(fig)  # Close the figure to avoid displaying it twice\n",
    "\n",
    "def on_button_click(b):\n",
    "    create_animation(hz, hazard_hz)  # Update animation with current frequencies\n",
    "\n",
    "def save_gif(b):\n",
    "    global gif_buffer\n",
    "    if gif_buffer is not None:\n",
    "        filename = f\"headlights_{hz:.2f}_hazards_{hazard_hz:.2f}.gif\"\n",
    "        with open(filename, 'wb') as f:\n",
    "            f.write(gif_buffer.getvalue())  # Write the GIF buffer to file\n",
    "        print(f\"Saved GIF as '{filename}'\")\n",
    "    else:\n",
    "        print(\"No GIF to save. Please generate the animation first.\")\n",
    "\n",
    "def update_headlight_frequency(change):\n",
    "    global hz\n",
    "    hz = change['new']  # Update the frequency value without generating animation\n",
    "\n",
    "def update_hazard_frequency(change):\n",
    "    global hazard_hz\n",
    "    hazard_hz = change['new']  # Update the hazard frequency value\n",
    "\n",
    "# Create interactive widgets\n",
    "hz_slider = FloatSlider(value=1.0, min=0.1, max=2.0, step=0.01, description='Headlight Flash (Hz):')\n",
    "hazard_slider = FloatSlider(value=1.25, min=0.1, max=2.0, step=0.01, description='Hazard Flash (Hz):')\n",
    "button = Button(description=\"Generate Animation\")\n",
    "save_button = Button(description=\"Save GIF\")\n",
    "\n",
    "# Register button actions\n",
    "button.on_click(on_button_click)\n",
    "save_button.on_click(save_gif)\n",
    "\n",
    "# Display widgets\n",
    "display(hz_slider, hazard_slider, button, save_button, out)\n",
    "\n",
    "# Link sliders to update frequency values\n",
    "hz_slider.observe(update_headlight_frequency, names='value')\n",
    "hazard_slider.observe(update_hazard_frequency, names='value')\n",
    "\n",
    "# Create initial animation\n",
    "create_animation(hz, hazard_hz)\n"
   ]
  },
  {
   "cell_type": "code",
   "execution_count": null,
   "metadata": {},
   "outputs": [],
   "source": []
  }
 ],
 "metadata": {
  "kernelspec": {
   "display_name": "Python 3 (ipykernel)",
   "language": "python",
   "name": "python3"
  },
  "language_info": {
   "codemirror_mode": {
    "name": "ipython",
    "version": 3
   },
   "file_extension": ".py",
   "mimetype": "text/x-python",
   "name": "python",
   "nbconvert_exporter": "python",
   "pygments_lexer": "ipython3",
   "version": "3.10.14"
  }
 },
 "nbformat": 4,
 "nbformat_minor": 4
}
