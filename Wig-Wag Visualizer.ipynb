{
 "cells": [
  {
   "cell_type": "markdown",
   "metadata": {},
   "source": [
    "Wig-Wag Visualizer Python Code\n",
    "\n",
    "This is a code that will help visualization of timing parameters.\n",
    "\n",
    "\n",
    "This code will allow the user to adjust parameters for the wig wag headlights including:\n",
    "\n",
    "Flash (hz): the rate that it will cycle left off, right on -> right on left off\n",
    "\n",
    "Off Delay (s): the # of seconds the lights will continue flash after the horn or bell is no longer pressed\n",
    "\n",
    "\n",
    "How to use:\n",
    "\n",
    "1: Click the double play arrows in the tool bar\n",
    "\n",
    "2: Wait for the first image to appear\n",
    "\n",
    "3: Click the Horn/Bell button once to simulate the operator pressing and holding the bell or horn button\n",
    "\n",
    "4: Click the Horn/Bell button again to simulate lifting the bell or horn button to start the Off Delay"
   ]
  },
  {
   "cell_type": "code",
   "execution_count": 1,
   "metadata": {
    "editable": true,
    "jupyter": {
     "source_hidden": true
    },
    "slideshow": {
     "slide_type": ""
    },
    "tags": []
   },
   "outputs": [
    {
     "data": {
      "application/vnd.jupyter.widget-view+json": {
       "model_id": "eaf0b59311be4732a2b3ee4193082bd9",
       "version_major": 2,
       "version_minor": 0
      },
      "text/plain": [
       "FloatSlider(value=1.0, description='Flash (Hz):', max=2.0, min=0.1, step=0.01)"
      ]
     },
     "metadata": {},
     "output_type": "display_data"
    },
    {
     "data": {
      "application/vnd.jupyter.widget-view+json": {
       "model_id": "7009817122704c999e733d03994671f4",
       "version_major": 2,
       "version_minor": 0
      },
      "text/plain": [
       "FloatSlider(value=5.0, description='Off Delay (s):', max=20.0, step=0.5)"
      ]
     },
     "metadata": {},
     "output_type": "display_data"
    },
    {
     "data": {
      "application/vnd.jupyter.widget-view+json": {
       "model_id": "5508dd2adcc84a3e8f654d501a6574d0",
       "version_major": 2,
       "version_minor": 0
      },
      "text/plain": [
       "Button(description='Horn/Bell', style=ButtonStyle())"
      ]
     },
     "metadata": {},
     "output_type": "display_data"
    },
    {
     "data": {
      "application/vnd.jupyter.widget-view+json": {
       "model_id": "d8266f4c70614d66b490a7f3bc308c86",
       "version_major": 2,
       "version_minor": 0
      },
      "text/plain": [
       "Label(value='Horn/Bell: Not Active')"
      ]
     },
     "metadata": {},
     "output_type": "display_data"
    },
    {
     "data": {
      "application/vnd.jupyter.widget-view+json": {
       "model_id": "a2d6ee87b2c64b79b6826ea35d2b0a9c",
       "version_major": 2,
       "version_minor": 0
      },
      "text/plain": [
       "Output()"
      ]
     },
     "metadata": {},
     "output_type": "display_data"
    }
   ],
   "source": [
    "import numpy as np\n",
    "import matplotlib.pyplot as plt\n",
    "from PIL import Image\n",
    "from IPython.display import display, HTML\n",
    "import io\n",
    "import base64\n",
    "import ipywidgets as widgets\n",
    "from ipywidgets import FloatSlider, Button, Output, Label\n",
    "import time\n",
    "import threading\n",
    "\n",
    "# Global variables to manage state\n",
    "horn_active = False\n",
    "hz = 1.0  # Initial frequency\n",
    "wig_wag_delay = 5  # Initial Delay for Turning Off\n",
    "stopFlag = False\n",
    "\n",
    "# Output widget to capture button actions\n",
    "out = Output()\n",
    "\n",
    "# Label to display the status of the horn/bell\n",
    "status_label = Label(value=\"Horn/Bell: Not Active\")\n",
    "\n",
    "def create_animation(hz, horn_active):\n",
    "    global flashing_end_time\n",
    "    global stopFlag\n",
    "    \n",
    "    # Calculate on and off times based on frequency\n",
    "    on_time = 1 / (2 * hz)   # Time (in seconds) for headlights to be on\n",
    "    off_time = 1 / (2 * hz)  # Time (in seconds) for headlights to be off\n",
    "\n",
    "    # Create figure and axis\n",
    "    fig, ax = plt.subplots()\n",
    "    ax.set_xlim(0, 10)\n",
    "    ax.set_ylim(0, 2)\n",
    "    ax.axis('off')  # Hide axes\n",
    "    fig.patch.set_facecolor('black')\n",
    "    ax.set_facecolor('black')\n",
    "\n",
    "    # Create two white circles for headlights\n",
    "    headlight1 = plt.Circle((2, 1), 0.5, color='white', fill=True)\n",
    "    headlight2 = plt.Circle((8, 1), 0.5, color='white', fill=True)\n",
    "    ax.add_patch(headlight1)\n",
    "    ax.add_patch(headlight2)\n",
    "\n",
    "    total_time = 1 / hz  # Total duration of the animation in seconds\n",
    "    fps = 30            # Frames per second for the animation\n",
    "\n",
    "    def update(frame):\n",
    "        cycle_time = (frame / fps) % (2 * (on_time + off_time))\n",
    "        currentTime = time.time()\n",
    "        if horn_active and stopFlag == False:\n",
    "            # Start the animation\n",
    "            if cycle_time < on_time:\n",
    "                headlight1.set_visible(True)\n",
    "                headlight2.set_visible(False)\n",
    "            elif cycle_time < on_time + off_time:\n",
    "                headlight1.set_visible(False)\n",
    "                headlight2.set_visible(True)\n",
    "            elif cycle_time < 2 * on_time + off_time:\n",
    "                headlight1.set_visible(True)\n",
    "                headlight2.set_visible(False)\n",
    "            else:\n",
    "                headlight1.set_visible(False)\n",
    "                headlight2.set_visible(True)\n",
    "        else:\n",
    "            # Continuous on when horn is not active\n",
    "            headlight1.set_visible(True)\n",
    "            headlight2.set_visible(True)\n",
    "        \n",
    "        return headlight1, headlight2\n",
    "\n",
    "    # Prepare to save animation frames\n",
    "    frames = []\n",
    "    for frame in range(int(total_time * fps)):\n",
    "        update(frame)\n",
    "        buf = io.BytesIO()\n",
    "        plt.savefig(buf, format='png', bbox_inches='tight', pad_inches=0)\n",
    "        buf.seek(0)\n",
    "        img = Image.open(buf)\n",
    "        frames.append(img.copy())  # Ensure a copy of the image is added to the list\n",
    "        buf.close()\n",
    "\n",
    "    # Save all frames as a GIF\n",
    "    gif_buffer = io.BytesIO()\n",
    "    frames[0].save(\n",
    "        gif_buffer,\n",
    "        format='GIF',\n",
    "        append_images=frames[1:],\n",
    "        save_all=True,\n",
    "        duration=1000 / fps,  # Duration per frame in milliseconds\n",
    "        loop=0\n",
    "    )\n",
    "    gif_buffer.seek(0)\n",
    "\n",
    "    # Encode GIF as base64\n",
    "    gif_base64 = base64.b64encode(gif_buffer.read()).decode('utf-8')\n",
    "\n",
    "    # Display GIF inline\n",
    "    with out:\n",
    "        out.clear_output()\n",
    "        display(HTML(f'<img src=\"data:image/gif;base64,{gif_base64}\" />'))\n",
    "\n",
    "    plt.close(fig)  # Close the figure to avoid displaying it twice\n",
    "\n",
    "def on_button_click(b):\n",
    "    global horn_active, flashing_end_time, stopFlag, startingTime\n",
    "    stopFlag = False\n",
    "    horn_active = not horn_active  # Toggle the state\n",
    "\n",
    "    # Update the status label\n",
    "    status_label.value = \"Horn/Bell: Active\" if horn_active else \"Horn/Bell: Not Active\"\n",
    "\n",
    "    if not horn_active:\n",
    "        # Set the time when the extended flashing should end\n",
    "        time.sleep(wig_wag_delay)\n",
    "        stopFlag = True\n",
    "    \n",
    "    create_animation(hz_slider.value, horn_active)  # Update animation with current frequency and state\n",
    "\n",
    "# Create interactive widgets\n",
    "hz_slider = FloatSlider(value=1.0, min=0.1, max=2.0, step=0.01, description='Flash (Hz):')\n",
    "wig_wag_delay_slider = FloatSlider(value=5, min=0, max=20, step=0.5, description='Off Delay (s):')\n",
    "horn_button = Button(description=\"Horn/Bell\")\n",
    "\n",
    "\n",
    "# Register button action\n",
    "horn_button.on_click(on_button_click)\n",
    "\n",
    "# Display widgets\n",
    "display(hz_slider, wig_wag_delay_slider, horn_button, status_label, out)\n",
    "\n",
    "def update_frequency(change):\n",
    "    create_animation(change['new'], horn_active)\n",
    "\n",
    "def update_wig_wag_delay(change):\n",
    "    global wig_wag_delay\n",
    "    wig_wag_delay = change['new']\n",
    "\n",
    "# Link slider to animation function\n",
    "hz_slider.observe(update_frequency, names='value')\n",
    "wig_wag_delay_slider.observe(update_wig_wag_delay, names='value')\n",
    "\n",
    "# Create initial animation\n",
    "create_animation(hz_slider.value, horn_active)\n"
   ]
  }
 ],
 "metadata": {
  "kernelspec": {
   "display_name": "Python 3 (ipykernel)",
   "language": "python",
   "name": "python3"
  },
  "language_info": {
   "codemirror_mode": {
    "name": "ipython",
    "version": 3
   },
   "file_extension": ".py",
   "mimetype": "text/x-python",
   "name": "python",
   "nbconvert_exporter": "python",
   "pygments_lexer": "ipython3",
   "version": "3.10.14"
  }
 },
 "nbformat": 4,
 "nbformat_minor": 4
}
