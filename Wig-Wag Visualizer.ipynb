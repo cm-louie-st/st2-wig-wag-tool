{
 "cells": [
  {
   "cell_type": "code",
   "execution_count": 4,
   "metadata": {
    "editable": true,
    "slideshow": {
     "slide_type": ""
    },
    "tags": []
   },
   "outputs": [
    {
     "data": {
      "application/vnd.jupyter.widget-view+json": {
       "model_id": "5bde2769fb514d50a073e1c4d9c10307",
       "version_major": 2,
       "version_minor": 0
      },
      "text/plain": [
       "FloatSlider(value=1.0, description='Frequency (Hz):', max=2.0, min=0.1, step=0.01)"
      ]
     },
     "metadata": {},
     "output_type": "display_data"
    },
    {
     "data": {
      "application/vnd.jupyter.widget-view+json": {
       "model_id": "ec48f6fb0d4c4f398a68cf5a61e933b6",
       "version_major": 2,
       "version_minor": 0
      },
      "text/plain": [
       "Button(description='Horn/Bell', style=ButtonStyle())"
      ]
     },
     "metadata": {},
     "output_type": "display_data"
    },
    {
     "data": {
      "application/vnd.jupyter.widget-view+json": {
       "model_id": "ec0cb3e751a74e709026271dfac9443b",
       "version_major": 2,
       "version_minor": 0
      },
      "text/plain": [
       "Output()"
      ]
     },
     "metadata": {},
     "output_type": "display_data"
    }
   ],
   "source": [
    "import numpy as np\n",
    "import matplotlib.pyplot as plt\n",
    "from PIL import Image\n",
    "from IPython.display import display, HTML\n",
    "import io\n",
    "import base64\n",
    "import ipywidgets as widgets\n",
    "from ipywidgets import FloatSlider, Button, Output\n",
    "\n",
    "# Global variables to manage state\n",
    "horn_active = False\n",
    "hz = 1.0  # Initial frequency\n",
    "\n",
    "# Output widget to capture button actions\n",
    "out = Output()\n",
    "\n",
    "def create_animation(hz, horn_active):\n",
    "    # Calculate on and off times based on frequency\n",
    "    on_time = 1 / (2 * hz)   # Time (in seconds) for headlights to be on\n",
    "    off_time = 1 / (2 * hz)  # Time (in seconds) for headlights to be off\n",
    "\n",
    "    # Create figure and axis\n",
    "    fig, ax = plt.subplots()\n",
    "    ax.set_xlim(0, 10)\n",
    "    ax.set_ylim(0, 2)\n",
    "    ax.axis('off')  # Hide axes\n",
    "    fig.patch.set_facecolor('black')\n",
    "    ax.set_facecolor('black')\n",
    "\n",
    "    # Create two white circles for headlights\n",
    "    headlight1 = plt.Circle((2, 1), 0.5, color='white', fill=True)\n",
    "    headlight2 = plt.Circle((8, 1), 0.5, color='white', fill=True)\n",
    "    ax.add_patch(headlight1)\n",
    "    ax.add_patch(headlight2)\n",
    "\n",
    "    total_time = 1 / hz  # Total duration of the animation in seconds\n",
    "    fps = 30            # Frames per second for the animation\n",
    "\n",
    "    def update(frame):\n",
    "        cycle_time = (frame / fps) % (2 * (on_time + off_time))\n",
    "        \n",
    "        if horn_active:\n",
    "            # Start the animation\n",
    "            if cycle_time < on_time:\n",
    "                headlight1.set_visible(True)\n",
    "                headlight2.set_visible(False)\n",
    "            elif cycle_time < on_time + off_time:\n",
    "                headlight1.set_visible(False)\n",
    "                headlight2.set_visible(True)\n",
    "            elif cycle_time < 2 * on_time + off_time:\n",
    "                headlight1.set_visible(True)\n",
    "                headlight2.set_visible(False)\n",
    "            else:\n",
    "                headlight1.set_visible(False)\n",
    "                headlight2.set_visible(True)\n",
    "        else:\n",
    "            # Continuous on when horn is not active\n",
    "            headlight1.set_visible(True)\n",
    "            headlight2.set_visible(True)\n",
    "        \n",
    "        return headlight1, headlight2\n",
    "\n",
    "    # Prepare to save animation frames\n",
    "    frames = []\n",
    "    for frame in range(int(total_time * fps)):\n",
    "        update(frame)\n",
    "        buf = io.BytesIO()\n",
    "        plt.savefig(buf, format='png', bbox_inches='tight', pad_inches=0)\n",
    "        buf.seek(0)\n",
    "        img = Image.open(buf)\n",
    "        frames.append(img.copy())  # Ensure a copy of the image is added to the list\n",
    "        buf.close()\n",
    "\n",
    "    # Save all frames as a GIF\n",
    "    gif_buffer = io.BytesIO()\n",
    "    frames[0].save(\n",
    "        gif_buffer,\n",
    "        format='GIF',\n",
    "        append_images=frames[1:],\n",
    "        save_all=True,\n",
    "        duration=1000 / fps,  # Duration per frame in milliseconds\n",
    "        loop=0\n",
    "    )\n",
    "    gif_buffer.seek(0)\n",
    "\n",
    "    # Encode GIF as base64\n",
    "    gif_base64 = base64.b64encode(gif_buffer.read()).decode('utf-8')\n",
    "\n",
    "    # Display GIF inline\n",
    "    with out:\n",
    "        out.clear_output()\n",
    "        display(HTML(f'<img src=\"data:image/gif;base64,{gif_base64}\" />'))\n",
    "\n",
    "    plt.close(fig)  # Close the figure to avoid displaying it twice\n",
    "\n",
    "def on_button_click(b):\n",
    "    global horn_active\n",
    "    horn_active = not horn_active  # Toggle the state\n",
    "    state = \"activated\" if horn_active else \"deactivated\"\n",
    "    create_animation(hz_slider.value, horn_active)  # Update animation with current frequency and state\n",
    "\n",
    "# Create interactive widgets\n",
    "hz_slider = FloatSlider(value=1.0, min=0.1, max=2.0, step=0.01, description='Frequency (Hz):')\n",
    "horn_button = Button(description=\"Horn/Bell\")\n",
    "\n",
    "# Register button action\n",
    "horn_button.on_click(on_button_click)\n",
    "\n",
    "# Display widgets\n",
    "display(hz_slider, horn_button, out)\n",
    "\n",
    "def update_frequency(change):\n",
    "    create_animation(change['new'], horn_active)\n",
    "\n",
    "# Link slider to animation function\n",
    "hz_slider.observe(update_frequency, names='value')\n",
    "\n",
    "# Create initial animation\n",
    "create_animation(hz_slider.value, horn_active)"
   ]
  },
  {
   "cell_type": "code",
   "execution_count": null,
   "metadata": {},
   "outputs": [],
   "source": []
  }
 ],
 "metadata": {
  "kernelspec": {
   "display_name": "Python 3 (ipykernel)",
   "language": "python",
   "name": "python3"
  },
  "language_info": {
   "codemirror_mode": {
    "name": "ipython",
    "version": 3
   },
   "file_extension": ".py",
   "mimetype": "text/x-python",
   "name": "python",
   "nbconvert_exporter": "python",
   "pygments_lexer": "ipython3",
   "version": "3.10.14"
  }
 },
 "nbformat": 4,
 "nbformat_minor": 4
}
